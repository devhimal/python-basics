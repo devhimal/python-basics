# Print squares of numbers from 1 to 99
for i in range(1, 100):
    print(i ** 2)


print("Matrix")
matrix = [[1, 2, 3, 4], [2, 5, 6, 7], [0, 9, 8, 6]]
print(matrix)

# Print all elements of the matrix row-wise
for row in matrix:
    for element in row:
        print(element, end=' ')
print()  # For newline after printing matrix elements


print("List comprehension")
# Correct list comprehension to flatten matrix elements
flat_list = [element for row in matrix for element in row]
print(flat_list)
print(type(flat_list)) 


print("Printing the types of data types.")
tupple = (1, 2, 3, 4)
temp_list = list(tupple)
temp_list.append(5)
temp_list[0]=8
temp_list.remove(3)
print(type(tupple))
final_tupple = tuple(temp_list)
print("modified tuple:", final_tupple)


print(tupple[1:])

# Uppacking tuples

subject1, subject2 = "Nepali", "English"
print(subject2, subject1)

# joing two tuples
tuple_a = (1, 2, 3)
tuple_b = (4, 5, 6)

tuple_c = tuple_a + tuple_b
print("Joined tuple:", tuple_c)



# Dictionaries
teacher = {
    'name':"sangam",
    'age':12,
    'subject':["english", "maths", "science"],
}

teachers = [
    {
        'name': "sangam",
        'age': 12,
        'subject': ["english", "maths", "science"]
    },
    {
        'name': "sita",
        'age': 15,
'subject': ["english", "maths", "science"]
    },
    {
        'name': "ram",
        'age': 14,
        'subject': ["english", "maths", "science"]
    }
]

print("Teachers dictionary:", teacher)
print("teachers: ", teachers )
print("printing the keys and values of the teacher dictionary:")

for teacher in teachers:
    for key, value in teacher.items():
        print(f"{key}: {value}")
    print("-----")


